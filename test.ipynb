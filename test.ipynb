{
 "cells": [
  {
   "cell_type": "code",
   "execution_count": 18,
   "id": "1d15deed",
   "metadata": {},
   "outputs": [],
   "source": [
    "import glob\n",
    "import os"
   ]
  },
  {
   "cell_type": "code",
   "execution_count": null,
   "id": "73b42768",
   "metadata": {},
   "outputs": [],
   "source": [
    "checkpoint_dir = f\"checkpoints/SAGE\"\n",
    "best_path = f\"checkpoints/SAGE\\sage_trial_53.pt\""
   ]
  },
  {
   "cell_type": "code",
   "execution_count": 27,
   "id": "c84afa22",
   "metadata": {},
   "outputs": [
    {
     "ename": "FileNotFoundError",
     "evalue": "[WinError 2] The system cannot find the file specified: 'checkpoints/SAGE\\\\sage_trial_10.pt' -> 'checkpoints/SAGE/_best.pt'",
     "output_type": "error",
     "traceback": [
      "\u001b[1;31m---------------------------------------------------------------------------\u001b[0m",
      "\u001b[1;31mFileNotFoundError\u001b[0m                         Traceback (most recent call last)",
      "Cell \u001b[1;32mIn[27], line 5\u001b[0m\n\u001b[0;32m      2\u001b[0m \t\u001b[38;5;28;01mif\u001b[39;00m f\u001b[38;5;241m.\u001b[39mreplace(\u001b[38;5;124m'\u001b[39m\u001b[38;5;130;01m\\\\\u001b[39;00m\u001b[38;5;124m'\u001b[39m, \u001b[38;5;124m'\u001b[39m\u001b[38;5;124m/\u001b[39m\u001b[38;5;124m'\u001b[39m) \u001b[38;5;241m!=\u001b[39m best_path \u001b[38;5;129;01mand\u001b[39;00m f\u001b[38;5;241m.\u001b[39mendswith(\u001b[38;5;124m\"\u001b[39m\u001b[38;5;124m.pt\u001b[39m\u001b[38;5;124m\"\u001b[39m):\n\u001b[0;32m      3\u001b[0m \t\tos\u001b[38;5;241m.\u001b[39mremove(f)\n\u001b[1;32m----> 5\u001b[0m \u001b[43mos\u001b[49m\u001b[38;5;241;43m.\u001b[39;49m\u001b[43mrename\u001b[49m\u001b[43m(\u001b[49m\u001b[43mbest_path\u001b[49m\u001b[43m,\u001b[49m\u001b[43m \u001b[49m\u001b[38;5;124;43mf\u001b[39;49m\u001b[38;5;124;43m\"\u001b[39;49m\u001b[38;5;132;43;01m{\u001b[39;49;00m\u001b[43mcheckpoint_dir\u001b[49m\u001b[38;5;132;43;01m}\u001b[39;49;00m\u001b[38;5;124;43m/_best.pt\u001b[39;49m\u001b[38;5;124;43m\"\u001b[39;49m\u001b[43m)\u001b[49m\n",
      "\u001b[1;31mFileNotFoundError\u001b[0m: [WinError 2] The system cannot find the file specified: 'checkpoints/SAGE\\\\sage_trial_10.pt' -> 'checkpoints/SAGE/_best.pt'"
     ]
    }
   ],
   "source": [
    "for f in glob.glob(f\"{checkpoint_dir}/sage_trial_*.pt\"):\n",
    "\tif f.replace('\\\\', '/') != best_path and f.endswith(\".pt\"):\n",
    "\t\tos.remove(f)\n",
    "\n",
    "os.rename(best_path, f\"{checkpoint_dir}/_best.pt\")"
   ]
  },
  {
   "cell_type": "code",
   "execution_count": 1,
   "id": "a604a542",
   "metadata": {},
   "outputs": [
    {
     "name": "stdout",
     "output_type": "stream",
     "text": [
      "AUC: 0.878332 ± 0.007699\n",
      "AP : 0.667361 ± 0.015456\n"
     ]
    }
   ],
   "source": [
    "import pandas as pd\n",
    "\n",
    "# Load the data from the text file\n",
    "file_path = 'results/SAGE/results_TI.csv'  # replace with your actual filename\n",
    "df = pd.read_csv(file_path)\n",
    "\n",
    "# Calculate mean and standard deviation\n",
    "auc_mean = df['AUC'].mean()\n",
    "auc_std = df['AUC'].std()\n",
    "\n",
    "ap_mean = df['AP'].mean()\n",
    "ap_std = df['AP'].std()\n",
    "\n",
    "# Print results\n",
    "print(f\"AUC: {auc_mean:.6f} ± {auc_std:.6f}\")\n",
    "print(f\"AP : {ap_mean:.6f} ± {ap_std:.6f}\")"
   ]
  },
  {
   "cell_type": "code",
   "execution_count": null,
   "id": "37bf7f61",
   "metadata": {},
   "outputs": [],
   "source": []
  }
 ],
 "metadata": {
  "kernelspec": {
   "display_name": "glass",
   "language": "python",
   "name": "python3"
  },
  "language_info": {
   "codemirror_mode": {
    "name": "ipython",
    "version": 3
   },
   "file_extension": ".py",
   "mimetype": "text/x-python",
   "name": "python",
   "nbconvert_exporter": "python",
   "pygments_lexer": "ipython3",
   "version": "3.9.23"
  }
 },
 "nbformat": 4,
 "nbformat_minor": 5
}
