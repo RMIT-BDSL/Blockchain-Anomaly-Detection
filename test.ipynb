{
 "cells": [
  {
   "cell_type": "code",
   "execution_count": 2,
   "id": "d6d364e5",
   "metadata": {},
   "outputs": [],
   "source": [
    "from data.dataset import BCDataset\n",
    "from torch_geometric.loader import DataLoader"
   ]
  },
  {
   "cell_type": "code",
   "execution_count": 4,
   "id": "e12e03ca",
   "metadata": {},
   "outputs": [
    {
     "name": "stdout",
     "output_type": "stream",
     "text": [
      "torch.Size([203769, 166]) torch.Size([203769]) torch.Size([2, 234355])\n"
     ]
    }
   ],
   "source": [
    "ds = BCDataset('elliptic', path='datasets/elliptic')\n",
    "print(ds.features.shape, ds.labels.shape, ds.edge_index.shape)\n",
    "\n",
    "data = ds.get_pyg_data()\n",
    "loader = DataLoader([data], batch_size=1)"
   ]
  },
  {
   "cell_type": "code",
   "execution_count": null,
   "id": "9e3cc073",
   "metadata": {},
   "outputs": [],
   "source": []
  }
 ],
 "metadata": {
  "kernelspec": {
   "display_name": "dd-chat",
   "language": "python",
   "name": "python3"
  },
  "language_info": {
   "codemirror_mode": {
    "name": "ipython",
    "version": 3
   },
   "file_extension": ".py",
   "mimetype": "text/x-python",
   "name": "python",
   "nbconvert_exporter": "python",
   "pygments_lexer": "ipython3",
   "version": "3.9.21"
  }
 },
 "nbformat": 4,
 "nbformat_minor": 5
}
