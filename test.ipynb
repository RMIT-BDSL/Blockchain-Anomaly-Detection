{
 "cells": [
  {
   "cell_type": "code",
   "execution_count": 1,
   "id": "1d15deed",
   "metadata": {},
   "outputs": [],
   "source": [
    "import glob\n",
    "import os"
   ]
  },
  {
   "cell_type": "code",
   "execution_count": 2,
   "id": "d6d364e5",
   "metadata": {},
   "outputs": [],
   "source": [
    "best_path = \"checkpoints/GCN/gcn_trial_1.pt\""
   ]
  },
  {
   "cell_type": "code",
   "execution_count": 3,
   "id": "891030c9",
   "metadata": {},
   "outputs": [],
   "source": [
    "for f in glob.glob(\"checkpoints/GCN/gcn_trial_*.pt\"):\n",
    "\tif f.replace('\\\\', '/') != best_path and f.endswith(\".pt\"):\n",
    "\t\tprint(f)"
   ]
  },
  {
   "cell_type": "code",
   "execution_count": 4,
   "id": "a604a542",
   "metadata": {},
   "outputs": [
    {
     "name": "stdout",
     "output_type": "stream",
     "text": [
      "AUC: 0.789791 ± 0.010405\n",
      "AP : 0.499267 ± 0.021337\n"
     ]
    }
   ],
   "source": [
    "import pandas as pd\n",
    "\n",
    "# Load the data from the text file\n",
    "file_path = 'D:/Project/Blockchain-Anomaly-Detection/results/GCN/results_TI.csv'  # replace with your actual filename\n",
    "df = pd.read_csv(file_path)\n",
    "\n",
    "# Calculate mean and standard deviation\n",
    "auc_mean = df['AUC'].mean()\n",
    "auc_std = df['AUC'].std()\n",
    "\n",
    "ap_mean = df['AP'].mean()\n",
    "ap_std = df['AP'].std()\n",
    "\n",
    "# Print results\n",
    "print(f\"AUC: {auc_mean:.6f} ± {auc_std:.6f}\")\n",
    "print(f\"AP : {ap_mean:.6f} ± {ap_std:.6f}\")"
   ]
  }
 ],
 "metadata": {
  "kernelspec": {
   "display_name": "bad_graph",
   "language": "python",
   "name": "python3"
  },
  "language_info": {
   "codemirror_mode": {
    "name": "ipython",
    "version": 3
   },
   "file_extension": ".py",
   "mimetype": "text/x-python",
   "name": "python",
   "nbconvert_exporter": "python",
   "pygments_lexer": "ipython3",
   "version": "3.9.21"
  }
 },
 "nbformat": 4,
 "nbformat_minor": 5
}
