{
 "cells": [
  {
   "cell_type": "code",
   "execution_count": 1,
   "id": "d6d364e5",
   "metadata": {},
   "outputs": [],
   "source": [
    "import matplotlib.pyplot as plt\n",
    "import warnings\n",
    "warnings.filterwarnings(\"ignore\")\n",
    "\n",
    "from data.dataset import BCDataset, SubgraphDataset\n",
    "\n",
    "import torch\n",
    "from torch_geometric.data import Data\n",
    "from torch_geometric.utils import to_networkx\n",
    "import networkx as nx\n",
    "import random"
   ]
  },
  {
   "cell_type": "code",
   "execution_count": 2,
   "id": "0b397f6b",
   "metadata": {},
   "outputs": [
    {
     "name": "stdout",
     "output_type": "stream",
     "text": [
      "torch.Size([203769, 166]) torch.Size([203769]) torch.Size([2, 468710])\n",
      "Extracted 46564 subgraphs with max hops=6 and max nodes=None\n",
      "46564 46564 46564 46564 46564\n",
      "torch.Size([46564, 165]) torch.Size([46564]) torch.Size([2, 0])\n"
     ]
    },
    {
     "data": {
      "text/plain": [
       "Data(x=[46564, 164], edge_index=[2, 0], y=[46564], train_mask=[46564], val_mask=[46564], test_mask=[46564])"
      ]
     },
     "execution_count": 2,
     "metadata": {},
     "output_type": "execute_result"
    }
   ],
   "source": [
    "idata = BCDataset(type='elliptic', path='datasets/elliptic')\n",
    "print(idata.features.shape, idata.labels.shape, idata.edge_index.shape)\n",
    "\n",
    "sub_data = SubgraphDataset(type='elliptic', path='datasets/elliptic')\n",
    "print(sub_data.features.shape, sub_data.labels.shape, sub_data.edge_index.shape)\n",
    "\n",
    "data = sub_data.to_torch_data()\n",
    "\n",
    "data"
   ]
  },
  {
   "cell_type": "code",
   "execution_count": 3,
   "id": "21ecb268",
   "metadata": {},
   "outputs": [
    {
     "data": {
      "text/plain": [
       "Data(x=[203769, 165], edge_index=[2, 468710], y=[203769], train_mask=[203769], val_mask=[203769], test_mask=[203769])"
      ]
     },
     "execution_count": 3,
     "metadata": {},
     "output_type": "execute_result"
    }
   ],
   "source": [
    "full = idata.to_torch_data()\n",
    "full"
   ]
  },
  {
   "cell_type": "code",
   "execution_count": null,
   "id": "392c6849",
   "metadata": {},
   "outputs": [],
   "source": [
    "def visualize_connected_subgraph(data, max_nodes=25, max_edges=40):\n",
    "    \"\"\"\n",
    "    Extract a connected subgraph with up to max_nodes and max_edges using BFS,\n",
    "    visualize it, and return a PyTorch Geometric Data object.\n",
    "\n",
    "    Args:\n",
    "        data (torch_geometric.data.Data): Input graph data.\n",
    "        max_nodes (int): Maximum number of nodes in the subgraph (default: 25).\n",
    "        max_edges (int): Maximum number of edges in the subgraph (default: 40).\n",
    "\n",
    "    Returns:\n",
    "        Data: A PyTorch Geometric Data object representing the subgraph.\n",
    "    \"\"\"\n",
    "    # Convert data to NetworkX graph\n",
    "    G = to_networkx(data, to_undirected=True) # Ensure the graph is undirected or directed as needed\n",
    "    max_attempts = 100\n",
    "\n",
    "    for _ in range(max_attempts):\n",
    "        start_node = random.choice(list(G.nodes))\n",
    "        visited = set([start_node])\n",
    "        queue = [start_node]\n",
    "        edges = set()\n",
    "\n",
    "        while queue and len(visited) < max_nodes and len(edges) < max_edges:\n",
    "            current = queue.pop(0)\n",
    "            for neighbor in G.neighbors(current):\n",
    "                if neighbor not in visited and len(visited) < max_nodes:\n",
    "                    visited.add(neighbor)\n",
    "                    queue.append(neighbor)\n",
    "                if current in visited and neighbor in visited:\n",
    "                    edge = (current, neighbor)\n",
    "                    edges.add(edge)\n",
    "                if len(edges) >= max_edges:\n",
    "                    break\n",
    "\n",
    "        if len(visited) >= 2 and len(edges) > 0:\n",
    "            break\n",
    "\n",
    "    final_nodes_ids = list(visited)\n",
    "\n",
    "    if hasattr(data, 'node_id') and data.node_id is not None:\n",
    "        node_id_to_index = {nid.item(): idx for idx, nid in enumerate(data.node_id)}\n",
    "    else:\n",
    "        unique_nodes = torch.unique(data.edge_index)\n",
    "        node_id_to_index = {nid.item(): idx for idx, nid in enumerate(unique_nodes)}\n",
    "\n",
    "    try:\n",
    "        final_nodes_indices = [node_id_to_index[nid] for nid in final_nodes_ids]\n",
    "    except KeyError as e:\n",
    "        raise ValueError(f\"Node ID {e} from NetworkX graph not found in data.node_id or data.edge_index. \"\n",
    "                         \"Ensure node IDs match between data and graph.\")\n",
    "\n",
    "    node_map = {nid: i for i, nid in enumerate(final_nodes_ids)}\n",
    "    filtered_edges = [\n",
    "        [node_map[u], node_map[v]] for u, v in edges\n",
    "        if u in node_map and v in node_map\n",
    "    ]\n",
    "\n",
    "    G_sub = nx.Graph()\n",
    "    G_sub.add_nodes_from(range(len(final_nodes_indices)))\n",
    "    G_sub.add_edges_from(filtered_edges)\n",
    "\n",
    "    plt.figure(figsize=(10, 8))\n",
    "    pos = nx.spring_layout(G_sub)\n",
    "    nx.draw(G_sub, pos, with_labels=True, node_color='lightblue', node_size=500, \n",
    "            font_size=10, edge_color='gray', width=2)\n",
    "    plt.title(\"Connected Subgraph Visualization\")\n",
    "    plt.show()\n",
    "\n",
    "    x = (data.x[final_nodes_indices] if hasattr(data, 'x') and data.x is not None \n",
    "         else torch.eye(len(final_nodes_indices)))\n",
    "    edge_index = torch.tensor(filtered_edges, dtype=torch.long).t().contiguous()\n",
    "\n",
    "    edge_attr = None\n",
    "    if hasattr(data, 'edge_attr') and data.edge_attr is not None:\n",
    "        edge_attr_list = []\n",
    "        for u, v in edges:\n",
    "            mask = ((data.edge_index[0] == u) & (data.edge_index[1] == v)) | \\\n",
    "                   ((data.edge_index[0] == v) & (data.edge_index[1] == u))\n",
    "            edge_idx = torch.where(mask)[0]\n",
    "            if len(edge_idx) > 0:\n",
    "                edge_attr_list.append(data.edge_attr[edge_idx[0]])\n",
    "        if edge_attr_list:\n",
    "            edge_attr = torch.stack(edge_attr_list)\n",
    "            \n",
    "    subgraph = Data(x=x, edge_index=edge_index, edge_attr=edge_attr)\n",
    "    if hasattr(data, 'y') and data.y is not None:\n",
    "        subgraph.y = data.y[final_nodes_indices]\n",
    "\n",
    "    return subgraph"
   ]
  },
  {
   "cell_type": "code",
   "execution_count": null,
   "id": "231a563e",
   "metadata": {},
   "outputs": [],
   "source": [
    "sub = visualize_connected_subgraph(data, max_nodes=10, max_edges=20)"
   ]
  },
  {
   "cell_type": "code",
   "execution_count": null,
   "id": "3d00e114",
   "metadata": {},
   "outputs": [],
   "source": [
    "sub"
   ]
  }
 ],
 "metadata": {
  "kernelspec": {
   "display_name": "bad_graph",
   "language": "python",
   "name": "python3"
  },
  "language_info": {
   "codemirror_mode": {
    "name": "ipython",
    "version": 3
   },
   "file_extension": ".py",
   "mimetype": "text/x-python",
   "name": "python",
   "nbconvert_exporter": "python",
   "pygments_lexer": "ipython3",
   "version": "3.9.21"
  }
 },
 "nbformat": 4,
 "nbformat_minor": 5
}
